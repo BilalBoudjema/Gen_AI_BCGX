{
 "cells": [
  {
   "cell_type": "code",
   "execution_count": 8,
   "id": "7513847f",
   "metadata": {},
   "outputs": [],
   "source": [
    "import pandas as pd\n",
    "\n",
    "\n",
    "# Charger les rapports depuis des fichiers CSV\n",
    "def charger_rapports():\n",
    "    Finaldf = pd.read_csv('C:\\\\Users\\\\Bilal\\\\Desktop\\\\Finaldf.csv')\n",
    "    Summary_final_report_by_company = pd.read_csv('C:\\\\Users\\\\Bilal\\\\Desktop\\\\Summary_final_report_by_company.csv')\n",
    "    return Finaldf, Summary_final_report_by_company"
   ]
  },
  {
   "cell_type": "code",
   "execution_count": 9,
   "id": "936370ef",
   "metadata": {},
   "outputs": [],
   "source": [
    "# Fonction principale du chatbot\n",
    "def chatbot_financier(Finaldf, Summary_final_report_by_company, compagnie, annee_fiscale):\n",
    "    requete_utilisateur = input(\"\\nVeuillez entrer votre question : \")\n",
    "\n",
    "    # Filtrer les données selon l'année et la compagnie\n",
    "    donnees_filtrées = Finaldf[(Finaldf['Year'] == annee_fiscale) & (Finaldf['Company'] == compagnie)]\n",
    "    sommaire_filtré = Summary_final_report_by_company[(Summary_final_report_by_company['Company'] == compagnie)]\n",
    "    \n",
    "    \n",
    "    # Réponses basées sur la requête\n",
    "    reponses = {\n",
    "        \"What is the total revenue?\": (\"Total Revenue\", donnees_filtrées, \"Le Revenu Total pour {compagnie} pour l'année fiscale {annee_fiscale} est de € {valeur}\"),\n",
    "        \"What is the Net Income?\": (\"Net Income\", donnees_filtrées, \"Le Résultat Net pour {compagnie} pour l'année fiscale {annee_fiscale} est de € {valeur}\"),\n",
    "        \"What is the sum of total assets?\": (\"Total Assets\", donnees_filtrées, \"La somme des Actifs Totals pour {compagnie} pour l'année fiscale {annee_fiscale} est de € {valeur}\"),\n",
    "        \"What is the sum of total liabilities?\": (\"Total Liabilities\", donnees_filtrées, \"La somme des Passifs Totals pour {compagnie} pour l'année fiscale {annee_fiscale} est de € {valeur}\"),\n",
    "        \"What is cash flow from operating activities?\": (\"Cash Flow from Operating Activities\", donnees_filtrées, \"Le flux de trésorerie des activités opérationnelles pour {compagnie} pour l'année fiscale {annee_fiscale} est de € {valeur}\"),\n",
    "        \"What is the revenue growth(%) ?\": (\"Revenue Growth (%)\", donnees_filtrées, \"La croissance du revenu en % pour {compagnie} pour l'année fiscale {annee_fiscale} est de {valeur}\"),\n",
    "        \"What is the net income growth(%) ?\": (\"Net Income Growth (%)\", donnees_filtrées, \"La croissance du résultat net en % pour {compagnie} pour l'année fiscale {annee_fiscale} est de {valeur}\"),\n",
    "        \"What is the assets growth(%) ?\": (\"Assets Growth (%)\", donnees_filtrées, \"La croissance des actifs en % pour {compagnie} pour l'année fiscale {annee_fiscale} est de {valeur}\"),\n",
    "        \"What is the liabilities growth(%) ?\": (\"Liabilities Growth (%)\", donnees_filtrées, \"La croissance des passifs en % pour {compagnie} pour l'année fiscale {annee_fiscale} est de {valeur}\"),\n",
    "        \"What is the cash flow from operations growth(%) ?\": (\"Cash Flow from Operations Growth(%)\", donnees_filtrées, \"La croissance du flux de trésorerie des opérations en % pour {compagnie} pour l'année fiscale {annee_fiscale} est de {valeur}\"),\n",
    "        \"What is the year by year average revenue growth rate(%)?\": (\"Revenue Growth (%)\", sommaire_filtré, \"Le taux de croissance moyen du revenu annuel en % de 2021 à 2023 pour {compagnie} est de {valeur}(%)\"),\n",
    "        \"What is the year by year average net income growth rate(%)?\": (\"Net Income Growth (%)\", sommaire_filtré, \"Le taux de croissance moyen du résultat net annuel en % de 2021 à 2023 pour {compagnie} est de {valeur}(%)\"),\n",
    "        \"What is the year by year average assets growth rate(%)?\": (\"Assets Growth (%)\", sommaire_filtré, \"Le taux de croissance moyen des actifs annuel en % de 2021 à 2023 pour {compagnie} est de {valeur}(%)\")\n",
    "    }\n",
    "    \n",
    "    for requete, (colonne, source_donnees, message) in reponses.items():\n",
    "        if requete_utilisateur == requete:\n",
    "            try:\n",
    "                valeur = source_donnees[colonne].values[0]\n",
    "                # Pour les valeurs nécessitant un arrondissement\n",
    "                if isinstance(valeur, float):\n",
    "                    valeur = round(valeur, 4)\n",
    "                print(message.format(compagnie=compagnie, annee_fiscale=annee_fiscale, valeur=valeur))\n",
    "                return\n",
    "            except IndexError:\n",
    "                print(\"Aucune donnée trouvée pour cette requête.\")\n",
    "                return\n",
    "\n",
    "    print(\"Désolé, je ne peux fournir d'informations que sur les requêtes demandées.\")"
   ]
  },
  {
   "cell_type": "code",
   "execution_count": 10,
   "id": "9c635e65",
   "metadata": {},
   "outputs": [
    {
     "name": "stdout",
     "output_type": "stream",
     "text": [
      "Bienvenue dans le Chatbot Financier AI !\n",
      "Le Revenu Total pour Tesla pour l'année fiscale 2021 est de € 53821\n",
      "None\n",
      "Veuillez entrer 'salut' correctement pour commencer la session du chatbot.\n",
      "Veuillez entrer 'salut' correctement pour commencer la session du chatbot.\n"
     ]
    }
   ],
   "source": [
    "# Boucle principale pour interagir avec l'utilisateur\n",
    "if __name__ == \"__main__\":\n",
    "    Finaldf, Summary_final_report_by_company = charger_rapports()\n",
    "\n",
    "    while True:\n",
    "        entree_utilisateur = input(\"\\nEntrez 'Salut' pour commencer la session du chatbot; tapez 'Sortir' pour quitter) : \").lower()\n",
    "        if entree_utilisateur == \"sortir\":\n",
    "            break\n",
    "        elif entree_utilisateur == \"salut\":\n",
    "            # La logique pour sélectionner la compagnie et l'année fiscale reste la même\n",
    "            print(\"Bienvenue dans le Chatbot Financier AI !\")\n",
    "            # La suite du code pour demander la compagnie et l'année fiscale reste inchangée\n",
    "            compagnie = input(\"Entrez le nom de la compagnie : \").capitalize()\n",
    "            annee_fiscale = int(input(\"L'année fiscale pour la compagnie sélectionnée : \"))\n",
    "            \n",
    "            reponse = chatbot_financier(Finaldf, Summary_final_report_by_company, compagnie, annee_fiscale)\n",
    "            print(reponse)\n",
    "        else:\n",
    "            print(\"Veuillez entrer 'salut' correctement pour commencer la session du chatbot.\")\n"
   ]
  },
  {
   "cell_type": "code",
   "execution_count": null,
   "id": "a767294f",
   "metadata": {},
   "outputs": [],
   "source": []
  }
 ],
 "metadata": {
  "kernelspec": {
   "display_name": "Python 3 (ipykernel)",
   "language": "python",
   "name": "python3"
  },
  "language_info": {
   "codemirror_mode": {
    "name": "ipython",
    "version": 3
   },
   "file_extension": ".py",
   "mimetype": "text/x-python",
   "name": "python",
   "nbconvert_exporter": "python",
   "pygments_lexer": "ipython3",
   "version": "3.11.4"
  }
 },
 "nbformat": 4,
 "nbformat_minor": 5
}
